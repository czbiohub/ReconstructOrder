{
 "cells": [
  {
   "cell_type": "code",
   "execution_count": 1,
   "metadata": {},
   "outputs": [],
   "source": [
    "from ReconstructOrder.compute.reconstruct import ImgReconstructor\n",
    "from ReconstructOrder.datastructures import IntensityData, PhysicalData, StokesData\n",
    "import numpy as np\n",
    "import tifffile as tiff\n",
    "import os\n",
    "import matplotlib.pyplot as plt"
   ]
  },
  {
   "cell_type": "code",
   "execution_count": 2,
   "metadata": {},
   "outputs": [],
   "source": [
    "intensity = IntensityData(num_channels=4, channel_names = ['IExt', 'I45', 'I90', 'I135'])\n",
    "phys = PhysicalData"
   ]
  },
  {
   "cell_type": "code",
   "execution_count": 3,
   "metadata": {},
   "outputs": [
    {
     "name": "stdout",
     "output_type": "stream",
     "text": [
      "img_000000000_state0_000.tif.tif\n",
      "img_000000000_state1_000.tif.tif\n",
      "img_000000000_state2_000.tif.tif\n",
      "img_000000000_state3_000.tif.tif\n",
      "img_000000000_State0 - Acquired Image_000.tif.tiff\n",
      "img_000000000_State1 - Acquired Image_000.tif.tiff\n",
      "img_000000000_State2 - Acquired Image_000.tif.tiff\n",
      "img_000000000_State3 - Acquired Image_000.tif.tiff\n"
     ]
    }
   ],
   "source": [
    "data_path = '/Volumes/comp_micro/rawdata/hummingbird/Cameron/20200922_Kazanzky_New_Scheme/'\n",
    "data = []\n",
    "bg_data = []\n",
    "\n",
    "for dirs, folders, filenames in os.walk(data_path+'Pos0/'):\n",
    "    filenames.sort()\n",
    "    for file in filenames:\n",
    "        if 'state' in file:\n",
    "            print(file)\n",
    "            data.append(tiff.TiffFile(data_path+'Pos0/'+file).asarray())\n",
    "\n",
    "data = np.reshape(data, newshape=(4,2048*2048))\n",
    "\n",
    "for dirs, folders, filenames in os.walk(data_path+'Background1/'):\n",
    "    filenames.sort()\n",
    "    for file in filenames:\n",
    "        if 'State' in file:\n",
    "            print(file)\n",
    "            bg_data.append(tiff.TiffFile(data_path+'Background1/'+file).asarray())\n",
    "\n",
    "bg_data = np.reshape(data, newshape=(4,2048*2048))"
   ]
  },
  {
   "cell_type": "code",
   "execution_count": 4,
   "metadata": {},
   "outputs": [],
   "source": [
    "data = np.reshape(data, newshape=(4,2048,2048))\n",
    "bg_data = np.reshape(data, newshape=(4,2048,2048))"
   ]
  },
  {
   "cell_type": "code",
   "execution_count": 16,
   "metadata": {},
   "outputs": [],
   "source": [
    "img = ImgReconstructor\n",
    "img._n_chann=4"
   ]
  },
  {
   "cell_type": "code",
   "execution_count": 17,
   "metadata": {},
   "outputs": [],
   "source": [
    "intensity.replace_image(data[0], 'IExt')\n",
    "intensity.replace_image(data[1], 'I45')\n",
    "intensity.replace_image(data[2], 'I90')\n",
    "intensity.replace_image(data[3], 'I135')\n",
    "\n",
    "# intensity.channel_names=['IExt','I45','I90','I135']"
   ]
  },
  {
   "cell_type": "code",
   "execution_count": 29,
   "metadata": {},
   "outputs": [],
   "source": [
    "def inst_mat(chi):\n",
    "    inst_mat = np.array([[1, 0, 0, -1],\n",
    "                     [1, np.sin(2*np.pi*chi), 0, -np.cos(2*np.pi*chi)],\n",
    "                     [1, -0.5*np.sin(2*np.pi*chi), np.sqrt(3)*np.cos(np.pi*chi)*np.sin(np.pi*chi), -np.cos(2*np.pi*chi)],\n",
    "                     [1, -0.5*np.sin(2*np.pi*chi), -np.sqrt(3)/2*np.sin(2*np.pi*chi), -np.cos(2*np.pi*chi)]])\n",
    "    return inst_mat"
   ]
  },
  {
   "cell_type": "code",
   "execution_count": 35,
   "metadata": {},
   "outputs": [],
   "source": [
    "inst_mat1 = inst_mat(.03)\n",
    "# print(inst_mat1)\n",
    "img.inst_mat_inv = np.linalg.pinv(inst_mat1)"
   ]
  },
  {
   "cell_type": "code",
   "execution_count": 43,
   "metadata": {},
   "outputs": [],
   "source": [
    "img.img_shape = [4,2048,2048]\n",
    "img.use_gpu = False"
   ]
  },
  {
   "cell_type": "code",
   "execution_count": 41,
   "metadata": {},
   "outputs": [],
   "source": [
    "stokes = img.compute_stokes(img,intensity)"
   ]
  },
  {
   "cell_type": "code",
   "execution_count": 44,
   "metadata": {},
   "outputs": [
    {
     "ename": "TypeError",
     "evalue": "unsupported operand type(s) for *: 'NoneType' and 'float'",
     "output_type": "error",
     "traceback": [
      "\u001b[0;31m---------------------------------------------------------------------------\u001b[0m",
      "\u001b[0;31mTypeError\u001b[0m                                 Traceback (most recent call last)",
      "\u001b[0;32m<ipython-input-44-021302f51646>\u001b[0m in \u001b[0;36m<module>\u001b[0;34m\u001b[0m\n\u001b[0;32m----> 1\u001b[0;31m \u001b[0mphys\u001b[0m \u001b[0;34m=\u001b[0m \u001b[0mimg\u001b[0m\u001b[0;34m.\u001b[0m\u001b[0mreconstruct_birefringence\u001b[0m\u001b[0;34m(\u001b[0m\u001b[0mimg\u001b[0m\u001b[0;34m,\u001b[0m\u001b[0mstokes\u001b[0m\u001b[0;34m)\u001b[0m\u001b[0;34m\u001b[0m\u001b[0;34m\u001b[0m\u001b[0m\n\u001b[0m",
      "\u001b[0;32m~/reconstruct-order/ReconstructOrder/compute/reconstruct.py\u001b[0m in \u001b[0;36mreconstruct_birefringence\u001b[0;34m(self, stokes_param_sm_tm, img_crop_ref, extra)\u001b[0m\n\u001b[1;32m    414\u001b[0m                 \u001b[0;32mraise\u001b[0m \u001b[0mAttributeError\u001b[0m\u001b[0;34m(\u001b[0m\u001b[0;34m\"unable to compute azimuth, circularity parameter is not defined\"\u001b[0m\u001b[0;34m)\u001b[0m\u001b[0;34m\u001b[0m\u001b[0;34m\u001b[0m\u001b[0m\n\u001b[1;32m    415\u001b[0m         \u001b[0;32melse\u001b[0m\u001b[0;34m:\u001b[0m\u001b[0;34m\u001b[0m\u001b[0;34m\u001b[0m\u001b[0m\n\u001b[0;32m--> 416\u001b[0;31m             \u001b[0ms1\u001b[0m \u001b[0;34m=\u001b[0m \u001b[0mstokes_param_sm_tm\u001b[0m\u001b[0;34m.\u001b[0m\u001b[0ms1_norm\u001b[0m \u001b[0;34m*\u001b[0m \u001b[0mstokes_param_sm_tm\u001b[0m\u001b[0;34m.\u001b[0m\u001b[0ms3\u001b[0m\u001b[0;34m\u001b[0m\u001b[0;34m\u001b[0m\u001b[0m\n\u001b[0m\u001b[1;32m    417\u001b[0m             \u001b[0ms2\u001b[0m \u001b[0;34m=\u001b[0m \u001b[0mstokes_param_sm_tm\u001b[0m\u001b[0;34m.\u001b[0m\u001b[0ms2_norm\u001b[0m \u001b[0;34m*\u001b[0m \u001b[0mstokes_param_sm_tm\u001b[0m\u001b[0;34m.\u001b[0m\u001b[0ms3\u001b[0m\u001b[0;34m\u001b[0m\u001b[0;34m\u001b[0m\u001b[0m\n\u001b[1;32m    418\u001b[0m \u001b[0;34m\u001b[0m\u001b[0m\n",
      "\u001b[0;31mTypeError\u001b[0m: unsupported operand type(s) for *: 'NoneType' and 'float'"
     ]
    }
   ],
   "source": [
    "phys = img.reconstruct_birefringence(img,stokes)"
   ]
  },
  {
   "cell_type": "code",
   "execution_count": null,
   "metadata": {},
   "outputs": [],
   "source": []
  }
 ],
 "metadata": {
  "kernelspec": {
   "display_name": "Python 3",
   "language": "python",
   "name": "python3"
  },
  "language_info": {
   "codemirror_mode": {
    "name": "ipython",
    "version": 3
   },
   "file_extension": ".py",
   "mimetype": "text/x-python",
   "name": "python",
   "nbconvert_exporter": "python",
   "pygments_lexer": "ipython3",
   "version": "3.7.8"
  }
 },
 "nbformat": 4,
 "nbformat_minor": 4
}
