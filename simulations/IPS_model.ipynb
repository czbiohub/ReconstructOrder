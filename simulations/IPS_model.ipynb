{
 "cells": [
  {
   "cell_type": "code",
   "execution_count": 158,
   "metadata": {},
   "outputs": [],
   "source": [
    "%matplotlib inline\n",
    "import sympy as sp\n",
    "import numpy as np\n",
    "import matplotlib.pyplot as plt\n",
    "\n",
    "from mueller_matrices import M_Retarder, M_Diattenuator, M_rotate, M_LinearPolarizer"
   ]
  },
  {
   "cell_type": "code",
   "execution_count": 259,
   "metadata": {},
   "outputs": [],
   "source": [
    "def plotImages(I0, I1, I2, I3):\n",
    "    fig1 = plt.figure(figsize=(20,20)) # create a figure with the default size \n",
    "\n",
    "    ax1 = fig1.add_subplot(2,2,1) \n",
    "    im=plt.imshow(I0, cmap='gray')\n",
    "    ax1.figure.colorbar(im)\n",
    "\n",
    "    ax2=fig1.add_subplot(2,2,2)\n",
    "    im=plt.imshow(I1, cmap='gray')\n",
    "    ax2.figure.colorbar(im)\n",
    "\n",
    "    ax3=fig1.add_subplot(2,2,3)\n",
    "    im=plt.imshow(I2, cmap='gray')\n",
    "    ax3.figure.colorbar(im)\n",
    "\n",
    "    ax4=fig1.add_subplot(2,2,4)\n",
    "    im=plt.imshow(I3, cmap='gray')\n",
    "    ax4.figure.colorbar(im)"
   ]
  },
  {
   "cell_type": "markdown",
   "metadata": {},
   "source": [
    "## Define symbolic parameters"
   ]
  },
  {
   "cell_type": "code",
   "execution_count": 2,
   "metadata": {},
   "outputs": [],
   "source": [
    "S = sp.Matrix(sp.symbols('s0:4'))\n",
    "s0, s1, s2, s3 = sp.symbols('s0, s1, s2, s3')\n",
    "x, eps, eps2, theta = sp.symbols('x, eps, eps2, theta')\n",
    "Tmax, Tmin = sp.symbols('Tmax, Tmin')\n",
    "Tmax_0, Tmin_0 = sp.symbols('Tmax_0, Tmin_0')\n",
    "Tmax_90, Tmin_90 = sp.symbols('Tmax_90, Tmin_90')\n",
    "tx, ty, rx, ry = sp.symbols('tx, ty, rx, ry')\n",
    "t90, t45, t135 = sp.symbols('t90, t45, t135')\n",
    "delta = sp.symbols('delta')"
   ]
  },
  {
   "cell_type": "markdown",
   "metadata": {},
   "source": [
    "## Model for 0 and 90 deg polarizers"
   ]
  },
  {
   "cell_type": "code",
   "execution_count": 3,
   "metadata": {},
   "outputs": [],
   "source": [
    "# Max and min transmission of the two polarizers\n",
    "Tmax_0 = 0.9718; Tmin_0 = 6.4E-4;\n",
    "Tmax_90 = 0.9681; Tmin_90 = 6.3E-4;\n",
    "\n",
    "M0_polarizer = M_Diattenuator(0, Tmax_0, Tmin_0)\n",
    "M90_polarizer = M_Diattenuator(sp.pi/2, Tmax_90, Tmin_90)\n",
    "\n",
    "M0_polarizer_ideal = M_Diattenuator(0, 1, 0)\n",
    "M90_polarizer_ideal = M_Diattenuator(sp.pi/2, 1, 0)"
   ]
  },
  {
   "cell_type": "markdown",
   "metadata": {},
   "source": [
    "## Model for 50/50 splitter\n",
    "\n",
    "Splitter is modelled as a linear diattenuator, which transmits or reflects 50% of the incident light. Non-ideal performance is given by unequal transmission/reflection of s- and p-polarized light"
   ]
  },
  {
   "cell_type": "code",
   "execution_count": 4,
   "metadata": {},
   "outputs": [],
   "source": [
    "# Transmission and reflection coefficients along two orthogonal coordinates\n",
    "tx = 0.5321; ty = 0.4430;\n",
    "rx = 0.4080; ry = 0.5091;\n",
    "\n",
    "M5050_transmission = M_Diattenuator(0, tx, ty)\n",
    "M5050_reflection = M_Diattenuator(0, rx, ry)\n",
    "\n",
    "M5050_ideal = M_Diattenuator(0, 0.5, 0.5)"
   ]
  },
  {
   "cell_type": "markdown",
   "metadata": {},
   "source": [
    "## Model for half-waveplate in 45/135 paths"
   ]
  },
  {
   "cell_type": "code",
   "execution_count": 5,
   "metadata": {},
   "outputs": [],
   "source": [
    "# Orientation and retardance of the HWP\n",
    "# HWP is oriented at -22.5 deg in current implementation\n",
    "hwp_theta = -0.3592; hwp_delta = 3.0604;\n",
    "\n",
    "M_HWP = M_Retarder(hwp_theta, hwp_delta)\n",
    "M_HWP_ideal = M_Retarder(-sp.pi/8, sp.pi)"
   ]
  },
  {
   "cell_type": "markdown",
   "metadata": {},
   "source": [
    "## Transmission coefficients of the 45/90/135 paths"
   ]
  },
  {
   "cell_type": "code",
   "execution_count": 6,
   "metadata": {},
   "outputs": [],
   "source": [
    "t45 = 1.0056; t90 = 0.8720; t135 = 0.8174;"
   ]
  },
  {
   "cell_type": "markdown",
   "metadata": {},
   "source": [
    "## Mueller matrices for the four paths"
   ]
  },
  {
   "cell_type": "code",
   "execution_count": 7,
   "metadata": {},
   "outputs": [],
   "source": [
    "M0 = M0_polarizer * M5050_transmission\n",
    "M90 = t90 * M90_polarizer * M5050_transmission\n",
    "M45 = t45 * M_Diattenuator(0, 1, 0) * M_HWP * M5050_reflection # Linear polarizer is modeled as ideal\n",
    "M135 = t135 * M_Diattenuator(sp.pi/2, 1, 0) * M_HWP * M5050_reflection # Linear polarizer is modeled as ideal\n",
    "\n",
    "M0_ideal = M0_polarizer_ideal * M5050_ideal\n",
    "M90_ideal = M90_polarizer_ideal * M5050_ideal\n",
    "M45_ideal = M_Diattenuator(0, 1, 0) * M_HWP_ideal * M5050_ideal\n",
    "M135_ideal = M_Diattenuator(sp.pi/2, 1, 0) * M_HWP_ideal * M5050_ideal"
   ]
  },
  {
   "cell_type": "markdown",
   "metadata": {},
   "source": [
    "## Instrument matrix and inverse instrument matrix\n",
    "\n",
    "* I = A * S\n",
    "\n",
    "* S = Ainv * I"
   ]
  },
  {
   "cell_type": "code",
   "execution_count": 44,
   "metadata": {},
   "outputs": [],
   "source": [
    "A = np.matrix([M0[0,:], M45[0,:], M90[0,:], M135[0,:],], dtype='float')\n",
    "A_ideal = np.matrix([M0_ideal[0,:], M45_ideal[0,:], M90_ideal[0,:], M135_ideal[0,:],], dtype='float')\n",
    "\n",
    "A_inv = np.linalg.pinv(A)\n",
    "A_inv_ideal = np.linalg.pinv(A_ideal)\n",
    "\n",
    "A_fit = np.matrix([[0.2642, 0.2600, 0.0011, 0],\n",
    "                   [0.2282, 0.0058, -0.2258, 0],\n",
    "                   [0.1845, -0.1876, -0.0005, 0],\n",
    "                   [0.1909, -0.0460, 0.1846, 0]])\n",
    "A_fit_inv = np.linalg.pinv(A_fit)"
   ]
  },
  {
   "cell_type": "markdown",
   "metadata": {},
   "source": [
    "## Model of light source and sample"
   ]
  },
  {
   "cell_type": "code",
   "execution_count": 15,
   "metadata": {},
   "outputs": [
    {
     "name": "stdout",
     "output_type": "stream",
     "text": [
      "Matrix([[t], [p*t*sin(delta)*sin(2*phi)], [-p*t*sin(delta)*cos(2*phi)], [p*t*cos(delta)]])\n"
     ]
    }
   ],
   "source": [
    "S_rcp = np.array([[1, 0, 0, 1]]).T\n",
    "S_unp = np.array([[1, 0, 0, 0]]).T\n",
    "\n",
    "t, p, phi = sp.symbols('t, p, phi')\n",
    "M_tp = sp.Matrix([[t, 0, 0, 0], [0, t*p, 0, 0], [0, 0, t*p, 0], [0, 0, 0, t*p]])\n",
    "M_sample = M_tp * M_Retarder(phi - sp.pi/2, delta)\n",
    "S_sample = M_sample * S_rcp\n",
    "print (S_sample)"
   ]
  },
  {
   "cell_type": "code",
   "execution_count": 51,
   "metadata": {},
   "outputs": [
    {
     "name": "stdout",
     "output_type": "stream",
     "text": [
      "[[1.        ]\n",
      " [0.92527857]\n",
      " [0.72338842]\n",
      " [0.69680481]]\n",
      "[[1.        ]\n",
      " [0.86373959]\n",
      " [0.6983346 ]\n",
      " [0.72255867]]\n"
     ]
    }
   ],
   "source": [
    "I_out1 = A * S_rcp\n",
    "I_out2 = A_fit * S_rcp\n",
    "\n",
    "print(I_out1 / I_out1[0] )\n",
    "print(I_out2 / I_out2[0])"
   ]
  },
  {
   "cell_type": "markdown",
   "metadata": {},
   "source": [
    "## No background"
   ]
  },
  {
   "cell_type": "code",
   "execution_count": 90,
   "metadata": {
    "scrolled": true
   },
   "outputs": [
    {
     "name": "stdout",
     "output_type": "stream",
     "text": [
      "Matrix([[-1.04083408558608e-16*p*t*sin(delta)*sin(2*phi) - 1.38777878078145e-16*p*t*sin(delta)*cos(2*phi) + 0.999999999999999*t], [1.0*p*t*sin(delta)*sin(2*phi) - 2.77555756156289e-17*p*t*sin(delta)*cos(2*phi) - 2.4980018054066e-16*t], [-2.91433543964104e-16*p*t*sin(delta)*sin(2*phi) - 1.0*p*t*sin(delta)*cos(2*phi) - 2.22044604925031e-16*t], [0]])\n"
     ]
    }
   ],
   "source": [
    "I_bg = A_fit * S_rcp\n",
    "I_sample = A_fit * M_sample * S_rcp\n",
    "\n",
    "S_bg = A_fit_inv * I_bg\n",
    "S_sample = A_fit_inv * I_sample\n",
    "\n",
    "print(S_sample)"
   ]
  },
  {
   "cell_type": "markdown",
   "metadata": {},
   "source": [
    "## Instrument background that can be calibrated"
   ]
  },
  {
   "cell_type": "code",
   "execution_count": 84,
   "metadata": {},
   "outputs": [
    {
     "name": "stdout",
     "output_type": "stream",
     "text": [
      "Matrix([[-1.73472347597681e-16*p*t*sin(delta)*sin(2*phi) + 1.73472347597681e-18*p*t*cos(delta) + 1.0*t], [0.999127628736388*p*t*sin(delta)*sin(2*phi) - 0.00122891696159512*p*t*sin(delta)*cos(2*phi) - 0.029497457434353*p*t*cos(delta) + 8.32667268468867e-17*t], [0.00122891696159502*p*t*sin(delta)*sin(2*phi) - 0.998268814022777*p*t*sin(delta)*cos(2*phi) + 0.0415533239998516*p*t*cos(delta)], [-0.0294974574343527*p*t*sin(delta)*sin(2*phi) - 0.0415533239998522*p*t*sin(delta)*cos(2*phi) + 0.00260355724083443*p*t*cos(delta) + 3.46944695195361e-18*t]])\n"
     ]
    }
   ],
   "source": [
    "M_noise = M_Retarder(0.15, 0.1)\n",
    "\n",
    "M0_noise = M0*M_noise\n",
    "M45_noise = M45*M_noise\n",
    "M90_noise = M90*M_noise\n",
    "M135_noise = M135*M_noise\n",
    "\n",
    "A_noise = np.matrix([M0_noise[0,:], M45_noise[0,:], M90_noise[0,:], M135_noise[0,:],], dtype='float')\n",
    "A_noise_inv = np.linalg.pinv(A_noise)\n",
    "\n",
    "I_bg2 = A_noise * S_rcp\n",
    "I_sample2 = A_noise * M_sample * S_rcp\n",
    "\n",
    "S_bg2 = A_fit_inv * I_bg2\n",
    "S_sample2 = A_noise_inv * I_sample2\n",
    "\n",
    "print(S_sample2)"
   ]
  },
  {
   "cell_type": "markdown",
   "metadata": {},
   "source": [
    "## Dust"
   ]
  },
  {
   "cell_type": "code",
   "execution_count": 249,
   "metadata": {},
   "outputs": [
    {
     "name": "stderr",
     "output_type": "stream",
     "text": [
      "/Users/ivan.ivanov/anaconda3/lib/python3.7/site-packages/ipykernel_launcher.py:42: FutureWarning: `rcond` parameter will change to the default of machine precision times ``max(M, N)`` where M and N are the input matrix dimensions.\n",
      "To use the future default and silence this warning we advise to pass `rcond=None`, to keep using the old, explicitly pass `rcond=-1`.\n"
     ]
    }
   ],
   "source": [
    "w = 200; h = 200\n",
    "xx, yy = np.meshgrid(range(w),range(h))\n",
    "I_sample = A * S_rcp\n",
    "\n",
    "n1 = 10 #number of dust spots\n",
    "x1 = np.random.randint(0, high = w, size=n1)\n",
    "y1 = np.random.randint(0, high = h, size=n1)\n",
    "i1 = np.random.uniform(low=0.2, high=1.0, size = n1)\n",
    "s1 = np.random.randint(1, high=10, size=n1)\n",
    "\n",
    "n2 = 8\n",
    "x2 = np.random.randint(0, high = w, size=n2)\n",
    "y2 = np.random.randint(0, high = h, size=n2)\n",
    "i2 = np.random.uniform(low=0.2, high=1.0, size = n2)\n",
    "s2 = np.random.randint(1, high=10, size=n2)\n",
    "\n",
    "# Calibration\n",
    "S_in = np.array([M_LinearPolarizer(t) * S_unp for t in np.linspace(0, 2*np.pi, num=11)], dtype='float').T\n",
    "I_base = A @ S_in\n",
    "I_full = np.tile(np.array(I_base[None,None,:,:]), (w,h,1,1))\n",
    "\n",
    "# I0 = np.ones((w,h), dtype='float') * np.asscalar(I_sample[0]) * 4000*2\n",
    "# I45 = np.ones((w,h), dtype='float') * np.asscalar(I_sample[1]) * 4000*2\n",
    "# I90 = np.ones((w,h), dtype='float') * np.asscalar(I_sample[2]) * 4000*2\n",
    "# I135 = np.ones((w,h), dtype='float') * np.asscalar(I_sample[3]) * 4000*2\n",
    "\n",
    "for i in range(n1):\n",
    "    xx = slice(np.maximum(0,x1[i]-s1[i]), np.minimum(w-1,x1[i]+s1[i]))\n",
    "    yy = slice(np.maximum(0,y1[i]-s1[i]), np.minimum(h-1,y1[i]+s1[i]))\n",
    "#     I0[xx, yy] *= i1[i]\n",
    "    I_full[xx,yy,0,:] *= i1[i]\n",
    "    \n",
    "for i in range(n2):\n",
    "    xx = slice(np.maximum(0,x2[i]-s2[i]), np.minimum(w-1,x2[i]+s2[i]))\n",
    "    yy = slice(np.maximum(0,y2[i]-s2[i]), np.minimum(h-1,y2[i]+s2[i]))\n",
    "#     I135[xx, yy] *= i2[i]\n",
    "    I_full[xx,yy,3,:] *= i2[i]\n",
    "\n",
    "A_img = np.zeros((w,h,4,4), dtype='float')\n",
    "for i in range(w):\n",
    "    for j in range(h):\n",
    "        A_img[i,j,:,:] = np.transpose(np.linalg.lstsq(S_in.T, I_full[i,j,:,:].T)[0])"
   ]
  },
  {
   "cell_type": "code",
   "execution_count": 260,
   "metadata": {
    "scrolled": false
   },
   "outputs": [
    {
     "data": {
      "image/png": "[encoded data removed]",
      "text/plain": [
       "<Figure size 1440x1440 with 8 Axes>"
      ]
     },
     "metadata": {
      "needs_background": "light"
     },
     "output_type": "display_data"
    },
    {
     "data": {
      "image/png": "[encoded data removed]",
      "text/plain": [
       "<Figure size 1440x1440 with 8 Axes>"
      ]
     },
     "metadata": {
      "needs_background": "light"
     },
     "output_type": "display_data"
    }
   ],
   "source": [
    "plotImages(I_full[:,:,0,0],I_full[:,:,1,0],I_full[:,:,2,0],I_full[:,:,3,0])\n",
    "plotImages(A_img[:,:,3,0],A_img[:,:,3,1],A_img[:,:,3,2],A_img[:,:,3,3])"
   ]
  },
  {
   "cell_type": "code",
   "execution_count": 213,
   "metadata": {},
   "outputs": [
    {
     "name": "stdout",
     "output_type": "stream",
     "text": [
      "(6, 4, 2, 3, 4)\n",
      "(6, 4)\n"
     ]
    },
    {
     "data": {
      "text/plain": [
       "True"
      ]
     },
     "execution_count": 213,
     "metadata": {},
     "output_type": "execute_result"
    }
   ],
   "source": [
    "a = np.eye(2*3*4)\n",
    "a.shape = (2*3, 4, 2, 3, 4)\n",
    "print(a.shape)\n",
    "b = np.random.randn(2*3, 4)\n",
    "print(b.shape)\n",
    "x = np.linalg.tensorsolve(a, b)\n",
    "x.shape\n",
    "\n",
    "np.allclose(np.tensordot(a, x, axes=3), b)"
   ]
  },
  {
   "cell_type": "code",
   "execution_count": 261,
   "metadata": {},
   "outputs": [],
   "source": [
    "A_img_inv = np.linalg.pinv(A_img)"
   ]
  },
  {
   "cell_type": "code",
   "execution_count": 263,
   "metadata": {},
   "outputs": [
    {
     "data": {
      "text/plain": [
       "(200, 200, 4, 4)"
      ]
     },
     "execution_count": 263,
     "metadata": {},
     "output_type": "execute_result"
    }
   ],
   "source": [
    "A_img_inv.shape"
   ]
  },
  {
   "cell_type": "code",
   "execution_count": 264,
   "metadata": {},
   "outputs": [
    {
     "data": {
      "text/plain": [
       "array([[ 1.11212001e+00,  1.03479641e+00,  1.25655991e+00,\n",
       "         1.27305024e+00],\n",
       "       [ 2.27161392e+00, -4.24162153e-01, -2.09505364e+00,\n",
       "        -5.21822194e-01],\n",
       "       [ 4.74090087e-01, -2.50505513e+00,  2.34830896e-03,\n",
       "         2.34430644e+00],\n",
       "       [ 0.00000000e+00,  0.00000000e+00,  0.00000000e+00,\n",
       "         0.00000000e+00]])"
      ]
     },
     "execution_count": 264,
     "metadata": {},
     "output_type": "execute_result"
    }
   ],
   "source": [
    "A_img_inv[0,0,:,:]"
   ]
  },
  {
   "cell_type": "code",
   "execution_count": 268,
   "metadata": {},
   "outputs": [
    {
     "ename": "ValueError",
     "evalue": "shapes (200,200,4,4) and (200,200,4) not aligned: 4 (dim 3) != 200 (dim 1)",
     "output_type": "error",
     "traceback": [
      "\u001b[0;31m---------------------------------------------------------------------------\u001b[0m",
      "\u001b[0;31mValueError\u001b[0m                                Traceback (most recent call last)",
      "\u001b[0;32m<ipython-input-268-5f0a7140269b>\u001b[0m in \u001b[0;36m<module>\u001b[0;34m()\u001b[0m\n\u001b[0;32m----> 1\u001b[0;31m \u001b[0mA_img_inv\u001b[0m \u001b[0;34m@\u001b[0m \u001b[0mI_full\u001b[0m\u001b[0;34m[\u001b[0m\u001b[0;34m:\u001b[0m\u001b[0;34m,\u001b[0m\u001b[0;34m:\u001b[0m\u001b[0;34m,\u001b[0m\u001b[0;34m:\u001b[0m\u001b[0;34m,\u001b[0m\u001b[0;36m0\u001b[0m\u001b[0;34m]\u001b[0m\u001b[0;34m\u001b[0m\u001b[0;34m\u001b[0m\u001b[0m\n\u001b[0m",
      "\u001b[0;31mValueError\u001b[0m: shapes (200,200,4,4) and (200,200,4) not aligned: 4 (dim 3) != 200 (dim 1)"
     ]
    }
   ],
   "source": [
    "A_img_inv @ I_full[:,:,:,0]"
   ]
  },
  {
   "cell_type": "code",
   "execution_count": 266,
   "metadata": {},
   "outputs": [
    {
     "data": {
      "text/plain": [
       "(200, 200, 4, 11)"
      ]
     },
     "execution_count": 266,
     "metadata": {},
     "output_type": "execute_result"
    }
   ],
   "source": [
    "I_full.shape"
   ]
  },
  {
   "cell_type": "code",
   "execution_count": 269,
   "metadata": {},
   "outputs": [
    {
     "data": {
      "text/plain": [
       "matrix([[0.25868915],\n",
       "        [0.22712713],\n",
       "        [0.18713274],\n",
       "        [0.19019893]])"
      ]
     },
     "execution_count": 269,
     "metadata": {},
     "output_type": "execute_result"
    }
   ],
   "source": [
    "A*S_unp"
   ]
  },
  {
   "cell_type": "code",
   "execution_count": null,
   "metadata": {},
   "outputs": [],
   "source": []
  }
 ],
 "metadata": {
  "kernelspec": {
   "display_name": "Python 3",
   "language": "python",
   "name": "python3"
  },
  "language_info": {
   "codemirror_mode": {
    "name": "ipython",
    "version": 3
   },
   "file_extension": ".py",
   "mimetype": "text/x-python",
   "name": "python",
   "nbconvert_exporter": "python",
   "pygments_lexer": "ipython3",
   "version": "3.7.1"
  }
 },
 "nbformat": 4,
 "nbformat_minor": 2
}
