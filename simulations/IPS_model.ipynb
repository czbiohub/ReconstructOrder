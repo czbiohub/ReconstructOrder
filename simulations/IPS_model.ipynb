{
 "cells": [
  {
   "cell_type": "code",
   "execution_count": 1,
   "metadata": {},
   "outputs": [],
   "source": [
    "%matplotlib inline\n",
    "import sympy as sp\n",
    "import numpy as np\n",
    "import pprint\n",
    "\n",
    "from mueller_matrices import M_Retarder, M_Diattenuator, M_rotate"
   ]
  },
  {
   "cell_type": "markdown",
   "metadata": {},
   "source": [
    "## Define symbolic parameters"
   ]
  },
  {
   "cell_type": "code",
   "execution_count": 2,
   "metadata": {},
   "outputs": [],
   "source": [
    "S = sp.Matrix(sp.symbols('s0:4'))\n",
    "s0, s1, s2, s3 = sp.symbols('s0, s1, s2, s3')\n",
    "x, eps, eps2, theta = sp.symbols('x, eps, eps2, theta')\n",
    "Tmax, Tmin = sp.symbols('Tmax, Tmin')\n",
    "Tmax_0, Tmin_0 = sp.symbols('Tmax_0, Tmin_0')\n",
    "Tmax_90, Tmin_90 = sp.symbols('Tmax_90, Tmin_90')\n",
    "tx, ty, rx, ry = sp.symbols('tx, ty, rx, ry')\n",
    "t90, t45, t135 = sp.symbols('t90, t45, t135')\n",
    "delta = sp.symbols('delta')"
   ]
  },
  {
   "cell_type": "markdown",
   "metadata": {},
   "source": [
    "## Model for 0 and 90 deg polarizers"
   ]
  },
  {
   "cell_type": "code",
   "execution_count": 3,
   "metadata": {},
   "outputs": [],
   "source": [
    "# Max and min transmission of the two polarizers\n",
    "Tmax_0 = 0.9718; Tmin_0 = 6.4E-4;\n",
    "Tmax_90 = 0.9681; Tmin_90 = 6.3E-4;\n",
    "\n",
    "M0_polarizer = M_Diattenuator(0, Tmax_0, Tmin_0)\n",
    "M90_polarizer = M_Diattenuator(sp.pi/2, Tmax_90, Tmin_90)\n",
    "\n",
    "M0_polarizer_ideal = M_Diattenuator(0, 1, 0)\n",
    "M90_polarizer_ideal = M_Diattenuator(sp.pi/2, 1, 0)"
   ]
  },
  {
   "cell_type": "markdown",
   "metadata": {},
   "source": [
    "## Model for 50/50 splitter\n",
    "\n",
    "Splitter is modelled as a linear diattenuator, which transmits or reflects 50% of the incident light. Non-ideal performance is given by unequal transmission/reflection of s- and p-polarized light"
   ]
  },
  {
   "cell_type": "code",
   "execution_count": 4,
   "metadata": {},
   "outputs": [],
   "source": [
    "# Transmission and reflection coefficients along two orthogonal coordinates\n",
    "tx = 0.5321; ty = 0.4430;\n",
    "rx = 0.4080; ry = 0.5091;\n",
    "\n",
    "M5050_transmission = M_Diattenuator(0, tx, ty)\n",
    "M5050_reflection = M_Diattenuator(0, rx, ry)\n",
    "\n",
    "M5050_ideal = M_Diattenuator(0, 0.5, 0.5)"
   ]
  },
  {
   "cell_type": "markdown",
   "metadata": {},
   "source": [
    "## Model for half-waveplate in 45/135 paths"
   ]
  },
  {
   "cell_type": "code",
   "execution_count": 5,
   "metadata": {},
   "outputs": [],
   "source": [
    "# Orientation and retardance of the HWP\n",
    "# HWP is oriented at -22.5 deg in current implementation\n",
    "hwp_theta = -0.3592; hwp_delta = 3.0604;\n",
    "\n",
    "M_HWP = M_Retarder(hwp_theta, hwp_delta)\n",
    "M_HWP_ideal = M_Retarder(-sp.pi/8, sp.pi)"
   ]
  },
  {
   "cell_type": "markdown",
   "metadata": {},
   "source": [
    "## Transmission coefficients of the 45/90/135 paths"
   ]
  },
  {
   "cell_type": "code",
   "execution_count": 6,
   "metadata": {},
   "outputs": [],
   "source": [
    "t45 = 1.0056; t90 = 0.8720; t135 = 0.8174;"
   ]
  },
  {
   "cell_type": "markdown",
   "metadata": {},
   "source": [
    "## Mueller matrices for the four paths"
   ]
  },
  {
   "cell_type": "code",
   "execution_count": 14,
   "metadata": {},
   "outputs": [],
   "source": [
    "M0 = M0_polarizer * M5050_transmission\n",
    "M90 = t90 * M90_polarizer * M5050_transmission\n",
    "M45 = t45 * M_Diattenuator(0, 1, 0) * M_HWP * M5050_reflection # Linear polarizer is modeled as ideal\n",
    "M135 = t135 * M_Diattenuator(sp.pi/2, 1, 0) * M_HWP * M5050_reflection # Linear polarizer is modeled as ideal\n",
    "\n",
    "M0_ideal = M0_polarizer_ideal * M5050_ideal\n",
    "M90_ideal = M90_polarizer_ideal * M5050_ideal\n",
    "M45_ideal = M_Diattenuator(0, 1, 0) * M_HWP_ideal * M5050_ideal\n",
    "M135_ideal = M_Diattenuator(sp.pi/2, 1, 0) * M_HWP_ideal * M5050_ideal"
   ]
  },
  {
   "cell_type": "markdown",
   "metadata": {},
   "source": [
    "## Instrument matrix and inverse instrument matrix\n",
    "\n",
    "* I = A * S\n",
    "\n",
    "* S = Ainv * I"
   ]
  },
  {
   "cell_type": "code",
   "execution_count": 22,
   "metadata": {},
   "outputs": [],
   "source": [
    "A = np.matrix([M0[0,:], M45[0,:], M90[0,:], M135[0,:],], dtype='float')\n",
    "A_ideal = np.matrix([M0_ideal[0,:], M45_ideal[0,:], M90_ideal[0,:], M135_ideal[0,:],], dtype='float')\n",
    "\n",
    "A_inv = np.linalg.pinv(A)\n",
    "A_inv_ideal = np.linalg.pinv(A_ideal)\n",
    "\n",
    "A_fit = np.matrix([[0.2642, 0.2600, 0.0011, 0],\n",
    "                   [0.2282, 0.0058, -0.2258, 0],\n",
    "                   [0.1845, -0.1876, -0.0005, 0],\n",
    "                   [0.1909, -0.0460, 0.1846, 0]])\n",
    "A_fit_inv = np.linalg.pinv(A_fit)"
   ]
  },
  {
   "cell_type": "code",
   "execution_count": 23,
   "metadata": {},
   "outputs": [
    {
     "name": "stdout",
     "output_type": "stream",
     "text": [
      "matrix([[ 0.2642,  0.26  ,  0.0011,  0.    ],\n",
      "        [ 0.2282,  0.0058, -0.2258,  0.    ],\n",
      "        [ 0.1845, -0.1876, -0.0005,  0.    ],\n",
      "        [ 0.1909, -0.046 ,  0.1846,  0.    ]])\n",
      "matrix([[ 1.10274352,  1.03657126,  1.25025407,  1.26473402],\n",
      "        [ 2.23994121, -0.43269806, -2.10502273, -0.5483189 ],\n",
      "        [ 0.46959284, -2.506331  , -0.00255037,  2.34860581],\n",
      "        [ 0.        ,  0.        ,  0.        ,  0.        ]])\n"
     ]
    }
   ],
   "source": [
    "pp = pprint.PrettyPrinter()\n",
    "pp.pprint(A_fit)\n",
    "pp.pprint(A_fit_inv)"
   ]
  },
  {
   "cell_type": "code",
   "execution_count": null,
   "metadata": {},
   "outputs": [],
   "source": []
  }
 ],
 "metadata": {
  "kernelspec": {
   "display_name": "Python 3",
   "language": "python",
   "name": "python3"
  },
  "language_info": {
   "codemirror_mode": {
    "name": "ipython",
    "version": 3
   },
   "file_extension": ".py",
   "mimetype": "text/x-python",
   "name": "python",
   "nbconvert_exporter": "python",
   "pygments_lexer": "ipython3",
   "version": "3.7.1"
  }
 },
 "nbformat": 4,
 "nbformat_minor": 2
}
