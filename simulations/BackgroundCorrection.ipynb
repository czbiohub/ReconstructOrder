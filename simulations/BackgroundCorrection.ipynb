{
 "cells": [
  {
   "cell_type": "code",
   "execution_count": 63,
   "metadata": {},
   "outputs": [],
   "source": [
    "%matplotlib inline\n",
    "from IPython.display import display, Math\n",
    "import sympy as sp\n",
    "import numpy as np\n",
    "from sympy import init_printing\n",
    "init_printing() # doctest: +SKIP\n",
    "from mueller_matrices import M_Retarder"
   ]
  },
  {
   "cell_type": "markdown",
   "metadata": {},
   "source": [
    "## Sample model: linear retarder with retardance $\\delta$ and fast axis $\\theta$\n",
    "#### Slow axis is $\\phi = \\theta + \\pi/2$"
   ]
  },
  {
   "cell_type": "code",
   "execution_count": 48,
   "metadata": {},
   "outputs": [
    {
     "data": {
      "text/latex": [
       "$$\\left[\\begin{matrix}1 & 0 & 0 & 0\\\\0 & \\sin^{2}{\\left (2 \\phi \\right )} \\cos{\\left (\\delta \\right )} + \\cos^{2}{\\left (2 \\phi \\right )} & \\left(- \\cos{\\left (\\delta \\right )} + 1\\right) \\sin{\\left (2 \\phi \\right )} \\cos{\\left (2 \\phi \\right )} & \\sin{\\left (\\delta \\right )} \\sin{\\left (2 \\phi \\right )}\\\\0 & \\left(- \\cos{\\left (\\delta \\right )} + 1\\right) \\sin{\\left (2 \\phi \\right )} \\cos{\\left (2 \\phi \\right )} & \\sin^{2}{\\left (2 \\phi \\right )} + \\cos{\\left (\\delta \\right )} \\cos^{2}{\\left (2 \\phi \\right )} & - \\sin{\\left (\\delta \\right )} \\cos{\\left (2 \\phi \\right )}\\\\0 & - \\sin{\\left (\\delta \\right )} \\sin{\\left (2 \\phi \\right )} & \\sin{\\left (\\delta \\right )} \\cos{\\left (2 \\phi \\right )} & \\cos{\\left (\\delta \\right )}\\end{matrix}\\right]$$"
      ],
      "text/plain": [
       "⎡1                 0                                0                        0\n",
       "⎢                                                                             \n",
       "⎢       2                  2                                                  \n",
       "⎢0   sin (2⋅φ)⋅cos(δ) + cos (2⋅φ)    (-cos(δ) + 1)⋅sin(2⋅φ)⋅cos(2⋅φ)  sin(δ)⋅s\n",
       "⎢                                                                             \n",
       "⎢                                        2                  2                 \n",
       "⎢0  (-cos(δ) + 1)⋅sin(2⋅φ)⋅cos(2⋅φ)   sin (2⋅φ) + cos(δ)⋅cos (2⋅φ)    -sin(δ)⋅\n",
       "⎢                                                                             \n",
       "⎣0         -sin(δ)⋅sin(2⋅φ)                  sin(δ)⋅cos(2⋅φ)               cos\n",
       "\n",
       "        ⎤\n",
       "        ⎥\n",
       "        ⎥\n",
       "in(2⋅φ) ⎥\n",
       "        ⎥\n",
       "        ⎥\n",
       "cos(2⋅φ)⎥\n",
       "        ⎥\n",
       "(δ)     ⎦"
      ]
     },
     "execution_count": 48,
     "metadata": {},
     "output_type": "execute_result"
    }
   ],
   "source": [
    "delta, phi = sp.symbols('delta, phi')\n",
    "M_sample = M_Retarder(phi - sp.pi/2, delta)\n",
    "\n",
    "M_sample"
   ]
  },
  {
   "cell_type": "markdown",
   "metadata": {},
   "source": [
    "## Sample may also have transmission $t$ and degree of polarization $p$"
   ]
  },
  {
   "cell_type": "code",
   "execution_count": 49,
   "metadata": {},
   "outputs": [
    {
     "data": {
      "text/latex": [
       "$$\\left[\\begin{matrix}t & 0 & 0 & 0\\\\0 & p t \\left(\\sin^{2}{\\left (2 \\phi \\right )} \\cos{\\left (\\delta \\right )} + \\cos^{2}{\\left (2 \\phi \\right )}\\right) & p t \\left(- \\cos{\\left (\\delta \\right )} + 1\\right) \\sin{\\left (2 \\phi \\right )} \\cos{\\left (2 \\phi \\right )} & p t \\sin{\\left (\\delta \\right )} \\sin{\\left (2 \\phi \\right )}\\\\0 & p t \\left(- \\cos{\\left (\\delta \\right )} + 1\\right) \\sin{\\left (2 \\phi \\right )} \\cos{\\left (2 \\phi \\right )} & p t \\left(\\sin^{2}{\\left (2 \\phi \\right )} + \\cos{\\left (\\delta \\right )} \\cos^{2}{\\left (2 \\phi \\right )}\\right) & - p t \\sin{\\left (\\delta \\right )} \\cos{\\left (2 \\phi \\right )}\\\\0 & - p t \\sin{\\left (\\delta \\right )} \\sin{\\left (2 \\phi \\right )} & p t \\sin{\\left (\\delta \\right )} \\cos{\\left (2 \\phi \\right )} & p t \\cos{\\left (\\delta \\right )}\\end{matrix}\\right]$$"
      ],
      "text/plain": [
       "⎡t                   0                                    0                   \n",
       "⎢                                                                             \n",
       "⎢       ⎛   2                  2     ⎞                                        \n",
       "⎢0  p⋅t⋅⎝sin (2⋅φ)⋅cos(δ) + cos (2⋅φ)⎠   p⋅t⋅(-cos(δ) + 1)⋅sin(2⋅φ)⋅cos(2⋅φ)  \n",
       "⎢                                                                             \n",
       "⎢                                            ⎛   2                  2     ⎞   \n",
       "⎢0  p⋅t⋅(-cos(δ) + 1)⋅sin(2⋅φ)⋅cos(2⋅φ)  p⋅t⋅⎝sin (2⋅φ) + cos(δ)⋅cos (2⋅φ)⎠   \n",
       "⎢                                                                             \n",
       "⎣0         -p⋅t⋅sin(δ)⋅sin(2⋅φ)                  p⋅t⋅sin(δ)⋅cos(2⋅φ)          \n",
       "\n",
       "         0          ⎤\n",
       "                    ⎥\n",
       "                    ⎥\n",
       "p⋅t⋅sin(δ)⋅sin(2⋅φ) ⎥\n",
       "                    ⎥\n",
       "                    ⎥\n",
       "-p⋅t⋅sin(δ)⋅cos(2⋅φ)⎥\n",
       "                    ⎥\n",
       "     p⋅t⋅cos(δ)     ⎦"
      ]
     },
     "execution_count": 49,
     "metadata": {},
     "output_type": "execute_result"
    }
   ],
   "source": [
    "t, p = sp.symbols('t, p')\n",
    "M_tp = sp.Matrix([[t, 0, 0, 0], [0, t*p, 0, 0], [0, 0, t*p, 0], [0, 0, 0, t*p]])\n",
    "M_sample = M_tp * M_sample\n",
    "\n",
    "M_sample"
   ]
  },
  {
   "cell_type": "markdown",
   "metadata": {},
   "source": [
    "## Stokes vector of excitation light"
   ]
  },
  {
   "cell_type": "code",
   "execution_count": 108,
   "metadata": {},
   "outputs": [],
   "source": [
    "S_unp = sp.Matrix([[1, 0, 0, 0]]).T\n",
    "S_rcp = sp.Matrix([[1, 0, 0, 1]]).T\n",
    "S_lcp = sp.Matrix([[1, 0, 0, -1]]).T\n",
    "S = sp.Matrix([sp.symbols('s0:4')]).T\n",
    "S_in = sp.Matrix([sp.symbols('s_0:4^{in}')]).T\n",
    "S_out = sp.Matrix([sp.symbols('s_0:4^{out}')]).T"
   ]
  },
  {
   "cell_type": "markdown",
   "metadata": {},
   "source": [
    "## Model 1: Excitation using RCP light"
   ]
  },
  {
   "cell_type": "code",
   "execution_count": 51,
   "metadata": {},
   "outputs": [
    {
     "data": {
      "text/latex": [
       "$$\\left[\\begin{matrix}t\\\\p t \\sin{\\left (\\delta \\right )} \\sin{\\left (2 \\phi \\right )}\\\\- p t \\sin{\\left (\\delta \\right )} \\cos{\\left (2 \\phi \\right )}\\\\p t \\cos{\\left (\\delta \\right )}\\end{matrix}\\right]$$"
      ],
      "text/plain": [
       "⎡         t          ⎤\n",
       "⎢                    ⎥\n",
       "⎢p⋅t⋅sin(δ)⋅sin(2⋅φ) ⎥\n",
       "⎢                    ⎥\n",
       "⎢-p⋅t⋅sin(δ)⋅cos(2⋅φ)⎥\n",
       "⎢                    ⎥\n",
       "⎣     p⋅t⋅cos(δ)     ⎦"
      ]
     },
     "execution_count": 51,
     "metadata": {},
     "output_type": "execute_result"
    }
   ],
   "source": [
    "S_sample = M_sample * S_rcp\n",
    "\n",
    "S_sample"
   ]
  },
  {
   "cell_type": "markdown",
   "metadata": {},
   "source": [
    "## The microscope measures the stokes vector of ligth $\\vec s = \\left< s_0, s_1, s_2, s_3 \\right>$ after interacting with the sample"
   ]
  },
  {
   "cell_type": "code",
   "execution_count": 136,
   "metadata": {},
   "outputs": [
    {
     "data": {
      "text/latex": [
       "$$transmission = s_{0}$$"
      ],
      "text/plain": [
       "<IPython.core.display.Math object>"
      ]
     },
     "metadata": {},
     "output_type": "display_data"
    },
    {
     "data": {
      "text/latex": [
       "$$slow\\, axis = - 0.5 \\operatorname{atan}{\\left (\\frac{s_{1}}{s_{2}} \\right )}$$"
      ],
      "text/plain": [
       "<IPython.core.display.Math object>"
      ]
     },
     "metadata": {},
     "output_type": "display_data"
    },
    {
     "data": {
      "text/latex": [
       "$$retardance = \\operatorname{atan}{\\left (\\frac{\\sqrt{s_{1}^{2} + s_{2}^{2}}}{s_{3}} \\right )}$$"
      ],
      "text/plain": [
       "<IPython.core.display.Math object>"
      ]
     },
     "metadata": {},
     "output_type": "display_data"
    },
    {
     "data": {
      "text/latex": [
       "$$polarization = \\frac{\\sqrt{s_{1}^{2} + s_{2}^{2} + s_{3}^{2}}}{s_{0}}$$"
      ],
      "text/plain": [
       "<IPython.core.display.Math object>"
      ]
     },
     "metadata": {},
     "output_type": "display_data"
    }
   ],
   "source": [
    "transmission = S[0]\n",
    "slow_axis = 0.5 * sp.atan(-S[1]/S[2])\n",
    "retardance = sp.atan(sp.sqrt(S[1]**2+S[2]**2)/S[3])\n",
    "polarization = sp.sqrt(S[1]**2+S[2]**2+S[3]**2)/S[0]\n",
    "\n",
    "display(Math('transmission = '+sp.latex(transmission)))\n",
    "display(Math('slow\\, axis = '+sp.latex(slow_axis)))\n",
    "display(Math('retardance = '+sp.latex(retardance)))\n",
    "display(Math('polarization = '+sp.latex(polarization)))"
   ]
  },
  {
   "cell_type": "markdown",
   "metadata": {},
   "source": [
    "## General model"
   ]
  },
  {
   "cell_type": "code",
   "execution_count": 109,
   "metadata": {},
   "outputs": [
    {
     "data": {
      "text/latex": [
       "$$\\left[\\begin{matrix}s_0^{out}\\\\s_1^{out}\\\\s_2^{out}\\\\s_3^{out}\\end{matrix}\\right]=\\left[\\begin{matrix}s_0^{in} t\\\\p s_1^{in} t \\left(\\sin^{2}{\\left (2 \\phi \\right )} \\cos{\\left (\\delta \\right )} + \\cos^{2}{\\left (2 \\phi \\right )}\\right) + p s_2^{in} t \\left(- \\cos{\\left (\\delta \\right )} + 1\\right) \\sin{\\left (2 \\phi \\right )} \\cos{\\left (2 \\phi \\right )} + p s_3^{in} t \\sin{\\left (\\delta \\right )} \\sin{\\left (2 \\phi \\right )}\\\\p s_1^{in} t \\left(- \\cos{\\left (\\delta \\right )} + 1\\right) \\sin{\\left (2 \\phi \\right )} \\cos{\\left (2 \\phi \\right )} + p s_2^{in} t \\left(\\sin^{2}{\\left (2 \\phi \\right )} + \\cos{\\left (\\delta \\right )} \\cos^{2}{\\left (2 \\phi \\right )}\\right) - p s_3^{in} t \\sin{\\left (\\delta \\right )} \\cos{\\left (2 \\phi \\right )}\\\\- p s_1^{in} t \\sin{\\left (\\delta \\right )} \\sin{\\left (2 \\phi \\right )} + p s_2^{in} t \\sin{\\left (\\delta \\right )} \\cos{\\left (2 \\phi \\right )} + p s_3^{in} t \\cos{\\left (\\delta \\right )}\\end{matrix}\\right]$$"
      ],
      "text/plain": [
       "<IPython.core.display.Math object>"
      ]
     },
     "metadata": {},
     "output_type": "display_data"
    }
   ],
   "source": [
    "S_measured = M_sample * S_in\n",
    "\n",
    "display(Math(sp.latex(S_out)+'='+sp.latex(M_sample * S_in)))"
   ]
  },
  {
   "cell_type": "markdown",
   "metadata": {},
   "source": [
    "### If S_in = S_rcp"
   ]
  },
  {
   "cell_type": "code",
   "execution_count": 114,
   "metadata": {},
   "outputs": [
    {
     "data": {
      "text/latex": [
       "$$\\left[\\begin{matrix}s_0^{out}\\\\s_1^{out}\\\\s_2^{out}\\\\s_3^{out}\\end{matrix}\\right]=\\left[\\begin{matrix}t\\\\p t \\sin{\\left (\\delta \\right )} \\sin{\\left (2 \\phi \\right )}\\\\- p t \\sin{\\left (\\delta \\right )} \\cos{\\left (2 \\phi \\right )}\\\\p t \\cos{\\left (\\delta \\right )}\\end{matrix}\\right]$$"
      ],
      "text/plain": [
       "<IPython.core.display.Math object>"
      ]
     },
     "metadata": {},
     "output_type": "display_data"
    }
   ],
   "source": [
    "display(Math(sp.latex(S_out)+'='+sp.latex(S_measured.subs({'s_0^{in}':1,'s_1^{in}':0,'s_2^{in}':0,'s_3^{in}':1}))))"
   ]
  },
  {
   "cell_type": "markdown",
   "metadata": {},
   "source": [
    "### If s1_in and s2_in are non-zero, but small; if p $\\approx$ 1"
   ]
  },
  {
   "cell_type": "markdown",
   "metadata": {},
   "source": [
    "#### If retardance delta is small, take Taylor expansion of cos(delta) to first term"
   ]
  },
  {
   "cell_type": "markdown",
   "metadata": {},
   "source": [
    "$cos(\\delta)=1-\\frac{x^2}{2!}+\\frac{x^4}{4!}+...$"
   ]
  },
  {
   "cell_type": "code",
   "execution_count": 134,
   "metadata": {},
   "outputs": [
    {
     "data": {
      "text/latex": [
       "$$\\left[\\begin{matrix}s_0^{out}\\\\s_1^{out}\\\\s_2^{out}\\\\s_3^{out}\\end{matrix}\\right]=\\left[\\begin{matrix}t\\\\s_1^{in} t + s_3^{in} t \\sin{\\left (\\delta \\right )} \\sin{\\left (2 \\phi \\right )}\\\\s_2^{in} t - s_3^{in} t \\sin{\\left (\\delta \\right )} \\cos{\\left (2 \\phi \\right )}\\\\- s_1^{in} t \\sin{\\left (\\delta \\right )} \\sin{\\left (2 \\phi \\right )} + s_2^{in} t \\sin{\\left (\\delta \\right )} \\cos{\\left (2 \\phi \\right )} + s_3^{in} t\\end{matrix}\\right]$$"
      ],
      "text/plain": [
       "<IPython.core.display.Math object>"
      ]
     },
     "metadata": {},
     "output_type": "display_data"
    }
   ],
   "source": [
    "S2 = S_measured.subs({'s_0^{in}':1,sp.cos(delta):1,p:1})\n",
    "display(Math(sp.latex(S_out)+'='+sp.latex(sp.trigsimp(S2))))"
   ]
  },
  {
   "cell_type": "markdown",
   "metadata": {},
   "source": [
    "### $t=\\frac{s_0^{out}}{s_0^{in}}$"
   ]
  },
  {
   "cell_type": "markdown",
   "metadata": {},
   "source": [
    "### $\\phi=\\frac{1}{2}\\arctan(-\\frac{s_1^{norm}-s_1^{in}}{s_2^{norm}-s_2^{in}})$"
   ]
  },
  {
   "cell_type": "markdown",
   "metadata": {},
   "source": [
    "### $\\delta=\\arcsin(\\frac{\\sqrt{(s_1^{norm}-s_1^{in})^2+(s_2^{norm}-s_2^{in})^2}}{s_3^{in}})$"
   ]
  },
  {
   "cell_type": "markdown",
   "metadata": {},
   "source": [
    "#### Depolarization affects the accuracy of background correction"
   ]
  },
  {
   "cell_type": "markdown",
   "metadata": {},
   "source": [
    "#### Full equations can be solved without assuming small retardance and depolarization"
   ]
  }
 ],
 "metadata": {
  "kernelspec": {
   "display_name": "Python 3",
   "language": "python",
   "name": "python3"
  },
  "language_info": {
   "codemirror_mode": {
    "name": "ipython",
    "version": 3
   },
   "file_extension": ".py",
   "mimetype": "text/x-python",
   "name": "python",
   "nbconvert_exporter": "python",
   "pygments_lexer": "ipython3",
   "version": "3.7.1"
  }
 },
 "nbformat": 4,
 "nbformat_minor": 2
}
