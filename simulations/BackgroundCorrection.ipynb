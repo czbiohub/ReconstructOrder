{
 "cells": [
  {
   "cell_type": "code",
   "execution_count": 1,
   "metadata": {},
   "outputs": [],
   "source": [
    "%matplotlib inline\n",
    "from IPython.display import display, Math\n",
    "import sympy as sp\n",
    "import numpy as np\n",
    "from sympy import init_printing\n",
    "init_printing() # doctest: +SKIP\n",
    "from mueller_matrices import M_Retarder"
   ]
  },
  {
   "cell_type": "markdown",
   "metadata": {},
   "source": [
    "## Sample model: linear retarder with retardance $\\delta$ and fast axis $\\theta$\n",
    "#### Slow axis is $\\phi = \\theta + \\pi/2$"
   ]
  },
  {
   "cell_type": "code",
   "execution_count": 2,
   "metadata": {},
   "outputs": [
    {
     "data": {
      "image/png": "[encoded data removed]",
      "text/latex": [
       "$$\\left[\\begin{matrix}1 & 0 & 0 & 0\\\\0 & \\sin^{2}{\\left (2 \\phi \\right )} \\cos{\\left (\\delta \\right )} + \\cos^{2}{\\left (2 \\phi \\right )} & \\left(- \\cos{\\left (\\delta \\right )} + 1\\right) \\sin{\\left (2 \\phi \\right )} \\cos{\\left (2 \\phi \\right )} & \\sin{\\left (\\delta \\right )} \\sin{\\left (2 \\phi \\right )}\\\\0 & \\left(- \\cos{\\left (\\delta \\right )} + 1\\right) \\sin{\\left (2 \\phi \\right )} \\cos{\\left (2 \\phi \\right )} & \\sin^{2}{\\left (2 \\phi \\right )} + \\cos{\\left (\\delta \\right )} \\cos^{2}{\\left (2 \\phi \\right )} & - \\sin{\\left (\\delta \\right )} \\cos{\\left (2 \\phi \\right )}\\\\0 & - \\sin{\\left (\\delta \\right )} \\sin{\\left (2 \\phi \\right )} & \\sin{\\left (\\delta \\right )} \\cos{\\left (2 \\phi \\right )} & \\cos{\\left (\\delta \\right )}\\end{matrix}\\right]$$"
      ],
      "text/plain": [
       "⎡1                 0                                0                        0\n",
       "⎢                                                                             \n",
       "⎢       2                  2                                                  \n",
       "⎢0   sin (2⋅φ)⋅cos(δ) + cos (2⋅φ)    (-cos(δ) + 1)⋅sin(2⋅φ)⋅cos(2⋅φ)  sin(δ)⋅s\n",
       "⎢                                                                             \n",
       "⎢                                        2                  2                 \n",
       "⎢0  (-cos(δ) + 1)⋅sin(2⋅φ)⋅cos(2⋅φ)   sin (2⋅φ) + cos(δ)⋅cos (2⋅φ)    -sin(δ)⋅\n",
       "⎢                                                                             \n",
       "⎣0         -sin(δ)⋅sin(2⋅φ)                  sin(δ)⋅cos(2⋅φ)               cos\n",
       "\n",
       "        ⎤\n",
       "        ⎥\n",
       "        ⎥\n",
       "in(2⋅φ) ⎥\n",
       "        ⎥\n",
       "        ⎥\n",
       "cos(2⋅φ)⎥\n",
       "        ⎥\n",
       "(δ)     ⎦"
      ]
     },
     "execution_count": 2,
     "metadata": {},
     "output_type": "execute_result"
    }
   ],
   "source": [
    "delta, phi = sp.symbols('delta, phi')\n",
    "M_sample = M_Retarder(phi - sp.pi/2, delta)\n",
    "\n",
    "M_sample"
   ]
  },
  {
   "cell_type": "markdown",
   "metadata": {},
   "source": [
    "## Sample may also have transmission $t$ and degree of polarization $p$"
   ]
  },
  {
   "cell_type": "code",
   "execution_count": 3,
   "metadata": {},
   "outputs": [
    {
     "data": {
      "image/png": "[encoded data removed]",
      "text/latex": [
       "$$\\left[\\begin{matrix}t & 0 & 0 & 0\\\\0 & p t \\left(\\sin^{2}{\\left (2 \\phi \\right )} \\cos{\\left (\\delta \\right )} + \\cos^{2}{\\left (2 \\phi \\right )}\\right) & p t \\left(- \\cos{\\left (\\delta \\right )} + 1\\right) \\sin{\\left (2 \\phi \\right )} \\cos{\\left (2 \\phi \\right )} & p t \\sin{\\left (\\delta \\right )} \\sin{\\left (2 \\phi \\right )}\\\\0 & p t \\left(- \\cos{\\left (\\delta \\right )} + 1\\right) \\sin{\\left (2 \\phi \\right )} \\cos{\\left (2 \\phi \\right )} & p t \\left(\\sin^{2}{\\left (2 \\phi \\right )} + \\cos{\\left (\\delta \\right )} \\cos^{2}{\\left (2 \\phi \\right )}\\right) & - p t \\sin{\\left (\\delta \\right )} \\cos{\\left (2 \\phi \\right )}\\\\0 & - p t \\sin{\\left (\\delta \\right )} \\sin{\\left (2 \\phi \\right )} & p t \\sin{\\left (\\delta \\right )} \\cos{\\left (2 \\phi \\right )} & p t \\cos{\\left (\\delta \\right )}\\end{matrix}\\right]$$"
      ],
      "text/plain": [
       "⎡t                   0                                    0                   \n",
       "⎢                                                                             \n",
       "⎢       ⎛   2                  2     ⎞                                        \n",
       "⎢0  p⋅t⋅⎝sin (2⋅φ)⋅cos(δ) + cos (2⋅φ)⎠   p⋅t⋅(-cos(δ) + 1)⋅sin(2⋅φ)⋅cos(2⋅φ)  \n",
       "⎢                                                                             \n",
       "⎢                                            ⎛   2                  2     ⎞   \n",
       "⎢0  p⋅t⋅(-cos(δ) + 1)⋅sin(2⋅φ)⋅cos(2⋅φ)  p⋅t⋅⎝sin (2⋅φ) + cos(δ)⋅cos (2⋅φ)⎠   \n",
       "⎢                                                                             \n",
       "⎣0         -p⋅t⋅sin(δ)⋅sin(2⋅φ)                  p⋅t⋅sin(δ)⋅cos(2⋅φ)          \n",
       "\n",
       "         0          ⎤\n",
       "                    ⎥\n",
       "                    ⎥\n",
       "p⋅t⋅sin(δ)⋅sin(2⋅φ) ⎥\n",
       "                    ⎥\n",
       "                    ⎥\n",
       "-p⋅t⋅sin(δ)⋅cos(2⋅φ)⎥\n",
       "                    ⎥\n",
       "     p⋅t⋅cos(δ)     ⎦"
      ]
     },
     "execution_count": 3,
     "metadata": {},
     "output_type": "execute_result"
    }
   ],
   "source": [
    "t, p = sp.symbols('t, p')\n",
    "M_tp = sp.Matrix([[t, 0, 0, 0], [0, t*p, 0, 0], [0, 0, t*p, 0], [0, 0, 0, t*p]])\n",
    "M_sample = M_tp * M_sample\n",
    "\n",
    "M_sample"
   ]
  },
  {
   "cell_type": "markdown",
   "metadata": {},
   "source": [
    "## Stokes vector of excitation light"
   ]
  },
  {
   "cell_type": "code",
   "execution_count": 4,
   "metadata": {},
   "outputs": [],
   "source": [
    "S_unp = sp.Matrix([[1, 0, 0, 0]]).T\n",
    "S_rcp = sp.Matrix([[1, 0, 0, 1]]).T\n",
    "S_lcp = sp.Matrix([[1, 0, 0, -1]]).T\n",
    "S = sp.Matrix([sp.symbols('s0:4')]).T\n",
    "S_bg = sp.Matrix([sp.symbols('s_0:4^{bg}')]).T\n",
    "S_out = sp.Matrix([sp.symbols('s_0:4^{out}')]).T"
   ]
  },
  {
   "cell_type": "markdown",
   "metadata": {},
   "source": [
    "## Model 1: Excitation using RCP light"
   ]
  },
  {
   "cell_type": "code",
   "execution_count": 5,
   "metadata": {},
   "outputs": [
    {
     "data": {
      "image/png": "[encoded data removed]",
      "text/latex": [
       "$$\\left[\\begin{matrix}t\\\\p t \\sin{\\left (\\delta \\right )} \\sin{\\left (2 \\phi \\right )}\\\\- p t \\sin{\\left (\\delta \\right )} \\cos{\\left (2 \\phi \\right )}\\\\p t \\cos{\\left (\\delta \\right )}\\end{matrix}\\right]$$"
      ],
      "text/plain": [
       "⎡         t          ⎤\n",
       "⎢                    ⎥\n",
       "⎢p⋅t⋅sin(δ)⋅sin(2⋅φ) ⎥\n",
       "⎢                    ⎥\n",
       "⎢-p⋅t⋅sin(δ)⋅cos(2⋅φ)⎥\n",
       "⎢                    ⎥\n",
       "⎣     p⋅t⋅cos(δ)     ⎦"
      ]
     },
     "execution_count": 5,
     "metadata": {},
     "output_type": "execute_result"
    }
   ],
   "source": [
    "S_sample = M_sample * S_rcp\n",
    "\n",
    "S_sample"
   ]
  },
  {
   "cell_type": "markdown",
   "metadata": {},
   "source": [
    "## The microscope measures the stokes vector of ligth $\\vec s = \\left< s_0, s_1, s_2, s_3 \\right>$ after interacting with the sample"
   ]
  },
  {
   "cell_type": "code",
   "execution_count": 6,
   "metadata": {},
   "outputs": [
    {
     "data": {
      "text/latex": [
       "$\\displaystyle transmission = s_{0}$"
      ],
      "text/plain": [
       "<IPython.core.display.Math object>"
      ]
     },
     "metadata": {},
     "output_type": "display_data"
    },
    {
     "data": {
      "text/latex": [
       "$\\displaystyle slow\\, axis = - 0.5 \\operatorname{atan}{\\left (\\frac{s_{1}}{s_{2}} \\right )}$"
      ],
      "text/plain": [
       "<IPython.core.display.Math object>"
      ]
     },
     "metadata": {},
     "output_type": "display_data"
    },
    {
     "data": {
      "text/latex": [
       "$\\displaystyle retardance = \\operatorname{atan}{\\left (\\frac{\\sqrt{s_{1}^{2} + s_{2}^{2}}}{s_{3}} \\right )}$"
      ],
      "text/plain": [
       "<IPython.core.display.Math object>"
      ]
     },
     "metadata": {},
     "output_type": "display_data"
    },
    {
     "data": {
      "text/latex": [
       "$\\displaystyle polarization = \\frac{\\sqrt{s_{1}^{2} + s_{2}^{2} + s_{3}^{2}}}{s_{0}}$"
      ],
      "text/plain": [
       "<IPython.core.display.Math object>"
      ]
     },
     "metadata": {},
     "output_type": "display_data"
    }
   ],
   "source": [
    "transmission = S[0]\n",
    "slow_axis = 0.5 * sp.atan(-S[1]/S[2])\n",
    "retardance = sp.atan(sp.sqrt(S[1]**2+S[2]**2)/S[3])\n",
    "polarization = sp.sqrt(S[1]**2+S[2]**2+S[3]**2)/S[0]\n",
    "\n",
    "display(Math('transmission = '+sp.latex(transmission)))\n",
    "display(Math('slow\\, axis = '+sp.latex(slow_axis)))\n",
    "display(Math('retardance = '+sp.latex(retardance)))\n",
    "display(Math('polarization = '+sp.latex(polarization)))"
   ]
  },
  {
   "cell_type": "markdown",
   "metadata": {},
   "source": [
    "## Model 2: Excitaiton with an elliptical state"
   ]
  },
  {
   "cell_type": "markdown",
   "metadata": {},
   "source": [
    "We treat the input Stokes vector as background the Stokes vector. If not corrected for, it is the polarization state in the background."
   ]
  },
  {
   "cell_type": "code",
   "execution_count": 7,
   "metadata": {
    "scrolled": true
   },
   "outputs": [
    {
     "data": {
      "text/latex": [
       "$\\displaystyle \\left[\\begin{matrix}s_0^{out}\\\\s_1^{out}\\\\s_2^{out}\\\\s_3^{out}\\end{matrix}\\right]=\\left[\\begin{matrix}s_0^{bg} t\\\\p s_1^{bg} t \\left(\\sin^{2}{\\left (2 \\phi \\right )} \\cos{\\left (\\delta \\right )} + \\cos^{2}{\\left (2 \\phi \\right )}\\right) + p s_2^{bg} t \\left(- \\cos{\\left (\\delta \\right )} + 1\\right) \\sin{\\left (2 \\phi \\right )} \\cos{\\left (2 \\phi \\right )} + p s_3^{bg} t \\sin{\\left (\\delta \\right )} \\sin{\\left (2 \\phi \\right )}\\\\p s_1^{bg} t \\left(- \\cos{\\left (\\delta \\right )} + 1\\right) \\sin{\\left (2 \\phi \\right )} \\cos{\\left (2 \\phi \\right )} + p s_2^{bg} t \\left(\\sin^{2}{\\left (2 \\phi \\right )} + \\cos{\\left (\\delta \\right )} \\cos^{2}{\\left (2 \\phi \\right )}\\right) - p s_3^{bg} t \\sin{\\left (\\delta \\right )} \\cos{\\left (2 \\phi \\right )}\\\\- p s_1^{bg} t \\sin{\\left (\\delta \\right )} \\sin{\\left (2 \\phi \\right )} + p s_2^{bg} t \\sin{\\left (\\delta \\right )} \\cos{\\left (2 \\phi \\right )} + p s_3^{bg} t \\cos{\\left (\\delta \\right )}\\end{matrix}\\right]$"
      ],
      "text/plain": [
       "<IPython.core.display.Math object>"
      ]
     },
     "metadata": {},
     "output_type": "display_data"
    }
   ],
   "source": [
    "S_measured = M_sample * S_bg\n",
    "\n",
    "display(Math(sp.latex(S_out)+'='+sp.latex(M_sample * S_bg)))"
   ]
  },
  {
   "cell_type": "markdown",
   "metadata": {},
   "source": [
    "### 2a. If S_in = S_rcp"
   ]
  },
  {
   "cell_type": "code",
   "execution_count": 8,
   "metadata": {},
   "outputs": [
    {
     "data": {
      "text/latex": [
       "$\\displaystyle \\left[\\begin{matrix}s_0^{out}\\\\s_1^{out}\\\\s_2^{out}\\\\s_3^{out}\\end{matrix}\\right]=\\left[\\begin{matrix}t\\\\p t \\sin{\\left (\\delta \\right )} \\sin{\\left (2 \\phi \\right )}\\\\- p t \\sin{\\left (\\delta \\right )} \\cos{\\left (2 \\phi \\right )}\\\\p t \\cos{\\left (\\delta \\right )}\\end{matrix}\\right]$"
      ],
      "text/plain": [
       "<IPython.core.display.Math object>"
      ]
     },
     "metadata": {},
     "output_type": "display_data"
    }
   ],
   "source": [
    "display(Math(sp.latex(S_out)+'='+sp.latex(S_measured.subs({'s_0^{bg}':1,'s_1^{bg}':0,'s_2^{bg}':0,'s_3^{bg}':1}))))"
   ]
  },
  {
   "cell_type": "markdown",
   "metadata": {},
   "source": [
    "### 2b. If sample retardance is small, it is possible to correct for large background"
   ]
  },
  {
   "cell_type": "markdown",
   "metadata": {},
   "source": [
    "use Taylor series expansion of $cos(\\delta)$ "
   ]
  },
  {
   "cell_type": "markdown",
   "metadata": {},
   "source": [
    "$cos(\\delta)=1-\\frac{x^2}{2!}+\\frac{x^4}{4!}+...$"
   ]
  },
  {
   "cell_type": "code",
   "execution_count": 13,
   "metadata": {},
   "outputs": [
    {
     "data": {
      "text/latex": [
       "$\\displaystyle \\left[\\begin{matrix}s_0^{out}\\\\s_1^{out}\\\\s_2^{out}\\\\s_3^{out}\\end{matrix}\\right]=\\left[\\begin{matrix}s_0^{bg} t\\\\s_1^{bg} t + s_3^{bg} t \\sin{\\left (\\delta \\right )} \\sin{\\left (2 \\phi \\right )}\\\\s_2^{bg} t - s_3^{bg} t \\sin{\\left (\\delta \\right )} \\cos{\\left (2 \\phi \\right )}\\\\- s_1^{bg} t \\sin{\\left (\\delta \\right )} \\sin{\\left (2 \\phi \\right )} + s_2^{bg} t \\sin{\\left (\\delta \\right )} \\cos{\\left (2 \\phi \\right )} + s_3^{bg} t\\end{matrix}\\right]$"
      ],
      "text/plain": [
       "<IPython.core.display.Math object>"
      ]
     },
     "metadata": {},
     "output_type": "display_data"
    }
   ],
   "source": [
    "S2 = S_measured.subs({sp.cos(delta):1,p:1})\n",
    "display(Math(sp.latex(S_out)+'='+sp.latex(sp.trigsimp(S2))))"
   ]
  },
  {
   "cell_type": "markdown",
   "metadata": {},
   "source": [
    "### $t=\\frac{s_0^{out}}{s_0^{bg}}$"
   ]
  },
  {
   "cell_type": "markdown",
   "metadata": {},
   "source": [
    "Now, normalize the LHS by $s_0^{out}$ and the RHS by $s_0^{bg}t$ and define  $s_{*n}=s_{*}/s_0$"
   ]
  },
  {
   "cell_type": "code",
   "execution_count": 10,
   "metadata": {},
   "outputs": [
    {
     "data": {
      "text/latex": [
       "$\\displaystyle \\left[\\begin{matrix}1\\\\s_{1n}^{out}\\\\s_{2n}^{out}\\\\s_{3n}^{out}\\end{matrix}\\right]=\\left[\\begin{matrix}1\\\\s_{1n}^{bg} + s_{3n}^{bg} \\sin{\\left (\\delta \\right )} \\sin{\\left (2 \\phi \\right )}\\\\s_{2n}^{bg} - s_{3n}^{bg} \\sin{\\left (\\delta \\right )} \\cos{\\left (2 \\phi \\right )}\\\\- s_{1n}^{bg} \\sin{\\left (\\delta \\right )} \\sin{\\left (2 \\phi \\right )} + s_{2n}^{bg} \\sin{\\left (\\delta \\right )} \\cos{\\left (2 \\phi \\right )} + s_{3n}^{bg}\\end{matrix}\\right]$"
      ],
      "text/plain": [
       "<IPython.core.display.Math object>"
      ]
     },
     "metadata": {},
     "output_type": "display_data"
    }
   ],
   "source": [
    "S2n = S2.subs({'s_0^{bg}':1,'t':1,'s_1^{bg}':'s_{1n}^{bg}','s_2^{bg}':'s_{2n}^{bg}','s_3^{bg}':'s_{3n}^{bg}'})\n",
    "S_outn = S_out.subs({'s_0^{out}':1,'s_1^{out}':'s_{1n}^{out}','s_2^{out}':'s_{2n}^{out}','s_3^{out}':'s_{3n}^{out}'})\n",
    "display(Math(sp.latex(S_outn)+'='+sp.latex(sp.trigsimp(S2n))))"
   ]
  },
  {
   "cell_type": "markdown",
   "metadata": {},
   "source": [
    "$\\phi=\\frac{1}{2}\\arctan(-\\frac{s_{1n}^{out}-s_{1n}^{bg}}{s_{2n}^{out}-s_{2n}^{bg}})$"
   ]
  },
  {
   "cell_type": "markdown",
   "metadata": {},
   "source": [
    "$\\delta=\\arcsin(\\frac{\\sqrt{(s_{1n}^{out}-s_{1n}^{bg})^2+(s_{2n}^{out}-s_{2n}^{bg})^2}}{s_{3n}^{bg}})$"
   ]
  },
  {
   "cell_type": "markdown",
   "metadata": {},
   "source": [
    "## Model 3: Background as a non-ideal linear retarder"
   ]
  },
  {
   "cell_type": "code",
   "execution_count": 57,
   "metadata": {},
   "outputs": [
    {
     "data": {
      "image/png": "[encoded data removed]",
      "text/latex": [
       "$$\\left[\\begin{matrix}1 & 0 & 0 & 0\\\\0 & \\sin^{2}{\\left (2 \\phi_{bg} \\right )} \\cos{\\left (\\delta_{bg} \\right )} + \\cos^{2}{\\left (2 \\phi_{bg} \\right )} & \\left(- \\cos{\\left (\\delta_{bg} \\right )} + 1\\right) \\sin{\\left (2 \\phi_{bg} \\right )} \\cos{\\left (2 \\phi_{bg} \\right )} & \\sin{\\left (\\delta_{bg} \\right )} \\sin{\\left (2 \\phi_{bg} \\right )}\\\\0 & \\left(- \\cos{\\left (\\delta_{bg} \\right )} + 1\\right) \\sin{\\left (2 \\phi_{bg} \\right )} \\cos{\\left (2 \\phi_{bg} \\right )} & \\sin^{2}{\\left (2 \\phi_{bg} \\right )} + \\cos{\\left (\\delta_{bg} \\right )} \\cos^{2}{\\left (2 \\phi_{bg} \\right )} & - \\sin{\\left (\\delta_{bg} \\right )} \\cos{\\left (2 \\phi_{bg} \\right )}\\\\0 & - \\sin{\\left (\\delta_{bg} \\right )} \\sin{\\left (2 \\phi_{bg} \\right )} & \\sin{\\left (\\delta_{bg} \\right )} \\cos{\\left (2 \\phi_{bg} \\right )} & \\cos{\\left (\\delta_{bg} \\right )}\\end{matrix}\\right]$$"
      ],
      "text/plain": [
       "⎡1                     0                                         0            \n",
       "⎢                                                                             \n",
       "⎢       2                        2                                            \n",
       "⎢0   sin (2⋅φ_bg)⋅cos(δ_bg) + cos (2⋅φ_bg)    (-cos(δ_bg) + 1)⋅sin(2⋅φ_bg)⋅cos\n",
       "⎢                                                                             \n",
       "⎢                                                 2                        2  \n",
       "⎢0  (-cos(δ_bg) + 1)⋅sin(2⋅φ_bg)⋅cos(2⋅φ_bg)   sin (2⋅φ_bg) + cos(δ_bg)⋅cos (2\n",
       "⎢                                                                             \n",
       "⎣0           -sin(δ_bg)⋅sin(2⋅φ_bg)                    sin(δ_bg)⋅cos(2⋅φ_bg)  \n",
       "\n",
       "                    0           ⎤\n",
       "                                ⎥\n",
       "                                ⎥\n",
       "(2⋅φ_bg)  sin(δ_bg)⋅sin(2⋅φ_bg) ⎥\n",
       "                                ⎥\n",
       "                                ⎥\n",
       "⋅φ_bg)    -sin(δ_bg)⋅cos(2⋅φ_bg)⎥\n",
       "                                ⎥\n",
       "                cos(δ_bg)       ⎦"
      ]
     },
     "execution_count": 57,
     "metadata": {},
     "output_type": "execute_result"
    }
   ],
   "source": [
    "delta_bg, phi_bg = sp.symbols('delta_bg, phi_bg')\n",
    "\n",
    "M_bg = M_Retarder(phi_bg - sp.pi/2, delta_bg)\n",
    "M_bg"
   ]
  },
  {
   "cell_type": "markdown",
   "metadata": {},
   "source": [
    "#### How does changing the order of background retarder affect the output Stokes vector?"
   ]
  },
  {
   "cell_type": "code",
   "execution_count": 58,
   "metadata": {},
   "outputs": [
    {
     "data": {
      "text/latex": [
       "$\\displaystyle \\left[\\begin{matrix}t\\\\p t \\left(\\sin^{2}{\\left (2 \\phi \\right )} \\cos{\\left (\\delta \\right )} + \\cos^{2}{\\left (2 \\phi \\right )}\\right) \\sin{\\left (\\delta_{bg} \\right )} \\sin{\\left (2 \\phi_{bg} \\right )} - p t \\left(- \\cos{\\left (\\delta \\right )} + 1\\right) \\sin{\\left (\\delta_{bg} \\right )} \\sin{\\left (2 \\phi \\right )} \\cos{\\left (2 \\phi \\right )} \\cos{\\left (2 \\phi_{bg} \\right )} + p t \\sin{\\left (\\delta \\right )} \\sin{\\left (2 \\phi \\right )} \\cos{\\left (\\delta_{bg} \\right )}\\\\- p t \\left(\\sin^{2}{\\left (2 \\phi \\right )} + \\cos{\\left (\\delta \\right )} \\cos^{2}{\\left (2 \\phi \\right )}\\right) \\sin{\\left (\\delta_{bg} \\right )} \\cos{\\left (2 \\phi_{bg} \\right )} + p t \\left(- \\cos{\\left (\\delta \\right )} + 1\\right) \\sin{\\left (\\delta_{bg} \\right )} \\sin{\\left (2 \\phi \\right )} \\sin{\\left (2 \\phi_{bg} \\right )} \\cos{\\left (2 \\phi \\right )} - p t \\sin{\\left (\\delta \\right )} \\cos{\\left (\\delta_{bg} \\right )} \\cos{\\left (2 \\phi \\right )}\\\\- p t \\sin{\\left (\\delta \\right )} \\sin{\\left (\\delta_{bg} \\right )} \\sin{\\left (2 \\phi \\right )} \\sin{\\left (2 \\phi_{bg} \\right )} - p t \\sin{\\left (\\delta \\right )} \\sin{\\left (\\delta_{bg} \\right )} \\cos{\\left (2 \\phi \\right )} \\cos{\\left (2 \\phi_{bg} \\right )} + p t \\cos{\\left (\\delta \\right )} \\cos{\\left (\\delta_{bg} \\right )}\\end{matrix}\\right]$"
      ],
      "text/plain": [
       "<IPython.core.display.Math object>"
      ]
     },
     "metadata": {},
     "output_type": "display_data"
    }
   ],
   "source": [
    "S_bgBefore = M_sample * M_bg * S_rcp\n",
    "display(Math(sp.latex(S_bgBefore)))"
   ]
  },
  {
   "cell_type": "code",
   "execution_count": 63,
   "metadata": {},
   "outputs": [
    {
     "data": {
      "image/png": "[encoded data removed]",
      "text/latex": [
       "$$\\left[\\begin{matrix}t\\\\\\delta_{bg} t \\left(\\sin^{2}{\\left (2 \\phi \\right )} \\cos{\\left (\\delta \\right )} + \\cos^{2}{\\left (2 \\phi \\right )}\\right) \\sin{\\left (2 \\phi_{bg} \\right )} - \\delta_{bg} t \\left(- \\cos{\\left (\\delta \\right )} + 1\\right) \\sin{\\left (2 \\phi \\right )} \\cos{\\left (2 \\phi \\right )} \\cos{\\left (2 \\phi_{bg} \\right )} + t \\sin{\\left (\\delta \\right )} \\sin{\\left (2 \\phi \\right )}\\\\- \\delta_{bg} t \\left(\\sin^{2}{\\left (2 \\phi \\right )} + \\cos{\\left (\\delta \\right )} \\cos^{2}{\\left (2 \\phi \\right )}\\right) \\cos{\\left (2 \\phi_{bg} \\right )} + \\delta_{bg} t \\left(- \\cos{\\left (\\delta \\right )} + 1\\right) \\sin{\\left (2 \\phi \\right )} \\sin{\\left (2 \\phi_{bg} \\right )} \\cos{\\left (2 \\phi \\right )} - t \\sin{\\left (\\delta \\right )} \\cos{\\left (2 \\phi \\right )}\\\\- \\delta_{bg} t \\sin{\\left (\\delta \\right )} \\sin{\\left (2 \\phi \\right )} \\sin{\\left (2 \\phi_{bg} \\right )} - \\delta_{bg} t \\sin{\\left (\\delta \\right )} \\cos{\\left (2 \\phi \\right )} \\cos{\\left (2 \\phi_{bg} \\right )} + t \\cos{\\left (\\delta \\right )}\\end{matrix}\\right]$$"
      ],
      "text/plain": [
       "⎡                                                             t               \n",
       "⎢                                                                             \n",
       "⎢        ⎛   2                  2     ⎞                                       \n",
       "⎢ δ_bg⋅t⋅⎝sin (2⋅φ)⋅cos(δ) + cos (2⋅φ)⎠⋅sin(2⋅φ_bg) - δ_bg⋅t⋅(-cos(δ) + 1)⋅sin\n",
       "⎢                                                                             \n",
       "⎢         ⎛   2                  2     ⎞                                      \n",
       "⎢- δ_bg⋅t⋅⎝sin (2⋅φ) + cos(δ)⋅cos (2⋅φ)⎠⋅cos(2⋅φ_bg) + δ_bg⋅t⋅(-cos(δ) + 1)⋅si\n",
       "⎢                                                                             \n",
       "⎣                    -δ_bg⋅t⋅sin(δ)⋅sin(2⋅φ)⋅sin(2⋅φ_bg) - δ_bg⋅t⋅sin(δ)⋅cos(2\n",
       "\n",
       "                                               ⎤\n",
       "                                               ⎥\n",
       "                                               ⎥\n",
       "(2⋅φ)⋅cos(2⋅φ)⋅cos(2⋅φ_bg) + t⋅sin(δ)⋅sin(2⋅φ) ⎥\n",
       "                                               ⎥\n",
       "                                               ⎥\n",
       "n(2⋅φ)⋅sin(2⋅φ_bg)⋅cos(2⋅φ) - t⋅sin(δ)⋅cos(2⋅φ)⎥\n",
       "                                               ⎥\n",
       "⋅φ)⋅cos(2⋅φ_bg) + t⋅cos(δ)                     ⎦"
      ]
     },
     "execution_count": 63,
     "metadata": {},
     "output_type": "execute_result"
    }
   ],
   "source": [
    "sp.trigsimp(S_bgBefore.subs({sp.cos(delta_bg):1,sp.sin(delta_bg):delta_bg}))"
   ]
  },
  {
   "cell_type": "code",
   "execution_count": 60,
   "metadata": {},
   "outputs": [
    {
     "data": {
      "image/png": "[encoded data removed]",
      "text/latex": [
       "$$\\left[\\begin{matrix}t\\\\p t \\left(\\sin^{2}{\\left (2 \\phi_{bg} \\right )} \\cos{\\left (\\delta_{bg} \\right )} + \\cos^{2}{\\left (2 \\phi_{bg} \\right )}\\right) \\sin{\\left (\\delta \\right )} \\sin{\\left (2 \\phi \\right )} - p t \\left(- \\cos{\\left (\\delta_{bg} \\right )} + 1\\right) \\sin{\\left (\\delta \\right )} \\sin{\\left (2 \\phi_{bg} \\right )} \\cos{\\left (2 \\phi \\right )} \\cos{\\left (2 \\phi_{bg} \\right )} + p t \\sin{\\left (\\delta_{bg} \\right )} \\sin{\\left (2 \\phi_{bg} \\right )} \\cos{\\left (\\delta \\right )}\\\\- p t \\left(\\sin^{2}{\\left (2 \\phi_{bg} \\right )} + \\cos{\\left (\\delta_{bg} \\right )} \\cos^{2}{\\left (2 \\phi_{bg} \\right )}\\right) \\sin{\\left (\\delta \\right )} \\cos{\\left (2 \\phi \\right )} + p t \\left(- \\cos{\\left (\\delta_{bg} \\right )} + 1\\right) \\sin{\\left (\\delta \\right )} \\sin{\\left (2 \\phi \\right )} \\sin{\\left (2 \\phi_{bg} \\right )} \\cos{\\left (2 \\phi_{bg} \\right )} - p t \\sin{\\left (\\delta_{bg} \\right )} \\cos{\\left (\\delta \\right )} \\cos{\\left (2 \\phi_{bg} \\right )}\\\\- p t \\sin{\\left (\\delta \\right )} \\sin{\\left (\\delta_{bg} \\right )} \\sin{\\left (2 \\phi \\right )} \\sin{\\left (2 \\phi_{bg} \\right )} - p t \\sin{\\left (\\delta \\right )} \\sin{\\left (\\delta_{bg} \\right )} \\cos{\\left (2 \\phi \\right )} \\cos{\\left (2 \\phi_{bg} \\right )} + p t \\cos{\\left (\\delta \\right )} \\cos{\\left (\\delta_{bg} \\right )}\\end{matrix}\\right]$$"
      ],
      "text/plain": [
       "⎡                                                                             \n",
       "⎢                                                                             \n",
       "⎢     ⎛   2                        2        ⎞                                 \n",
       "⎢ p⋅t⋅⎝sin (2⋅φ_bg)⋅cos(δ_bg) + cos (2⋅φ_bg)⎠⋅sin(δ)⋅sin(2⋅φ) - p⋅t⋅(-cos(δ_bg\n",
       "⎢                                                                             \n",
       "⎢      ⎛   2                        2        ⎞                                \n",
       "⎢- p⋅t⋅⎝sin (2⋅φ_bg) + cos(δ_bg)⋅cos (2⋅φ_bg)⎠⋅sin(δ)⋅cos(2⋅φ) + p⋅t⋅(-cos(δ_b\n",
       "⎢                                                                             \n",
       "⎣                         -p⋅t⋅sin(δ)⋅sin(δ_bg)⋅sin(2⋅φ)⋅sin(2⋅φ_bg) - p⋅t⋅sin\n",
       "\n",
       "  t                                                                           \n",
       "                                                                              \n",
       "                                                                              \n",
       ") + 1)⋅sin(δ)⋅sin(2⋅φ_bg)⋅cos(2⋅φ)⋅cos(2⋅φ_bg) + p⋅t⋅sin(δ_bg)⋅sin(2⋅φ_bg)⋅cos\n",
       "                                                                              \n",
       "                                                                              \n",
       "g) + 1)⋅sin(δ)⋅sin(2⋅φ)⋅sin(2⋅φ_bg)⋅cos(2⋅φ_bg) - p⋅t⋅sin(δ_bg)⋅cos(δ)⋅cos(2⋅φ\n",
       "                                                                              \n",
       "(δ)⋅sin(δ_bg)⋅cos(2⋅φ)⋅cos(2⋅φ_bg) + p⋅t⋅cos(δ)⋅cos(δ_bg)                     \n",
       "\n",
       "    ⎤\n",
       "    ⎥\n",
       "    ⎥\n",
       "(δ) ⎥\n",
       "    ⎥\n",
       "    ⎥\n",
       "_bg)⎥\n",
       "    ⎥\n",
       "    ⎦"
      ]
     },
     "execution_count": 60,
     "metadata": {},
     "output_type": "execute_result"
    }
   ],
   "source": [
    "S_bgAfter =  M_bg * M_sample * S_rcp\n",
    "S_bgAfter"
   ]
  },
  {
   "cell_type": "code",
   "execution_count": 64,
   "metadata": {},
   "outputs": [
    {
     "data": {
      "image/png": "[encoded data removed]",
      "text/latex": [
       "$$\\left[\\begin{matrix}t\\\\\\delta_{bg} p t \\sin{\\left (2 \\phi_{bg} \\right )} \\cos{\\left (\\delta \\right )} + p t \\sin{\\left (\\delta \\right )} \\sin{\\left (2 \\phi \\right )}\\\\- \\delta_{bg} p t \\cos{\\left (\\delta \\right )} \\cos{\\left (2 \\phi_{bg} \\right )} - p t \\sin{\\left (\\delta \\right )} \\cos{\\left (2 \\phi \\right )}\\\\- \\delta_{bg} p t \\sin{\\left (\\delta \\right )} \\sin{\\left (2 \\phi \\right )} \\sin{\\left (2 \\phi_{bg} \\right )} - \\delta_{bg} p t \\sin{\\left (\\delta \\right )} \\cos{\\left (2 \\phi \\right )} \\cos{\\left (2 \\phi_{bg} \\right )} + p t \\cos{\\left (\\delta \\right )}\\end{matrix}\\right]$$"
      ],
      "text/plain": [
       "⎡                                            t                                \n",
       "⎢                                                                             \n",
       "⎢                    δ_bg⋅p⋅t⋅sin(2⋅φ_bg)⋅cos(δ) + p⋅t⋅sin(δ)⋅sin(2⋅φ)        \n",
       "⎢                                                                             \n",
       "⎢                   -δ_bg⋅p⋅t⋅cos(δ)⋅cos(2⋅φ_bg) - p⋅t⋅sin(δ)⋅cos(2⋅φ)        \n",
       "⎢                                                                             \n",
       "⎣-δ_bg⋅p⋅t⋅sin(δ)⋅sin(2⋅φ)⋅sin(2⋅φ_bg) - δ_bg⋅p⋅t⋅sin(δ)⋅cos(2⋅φ)⋅cos(2⋅φ_bg) \n",
       "\n",
       "            ⎤\n",
       "            ⎥\n",
       "            ⎥\n",
       "            ⎥\n",
       "            ⎥\n",
       "            ⎥\n",
       "+ p⋅t⋅cos(δ)⎦"
      ]
     },
     "execution_count": 64,
     "metadata": {},
     "output_type": "execute_result"
    }
   ],
   "source": [
    "S_bgAfter.subs({sp.cos(delta_bg):1,sp.sin(delta_bg):0})\n",
    "sp.trigsimp(S_bgAfter.subs({sp.cos(delta_bg):1,sp.sin(delta_bg):delta_bg}))"
   ]
  },
  {
   "cell_type": "markdown",
   "metadata": {},
   "source": [
    "#### Depolarization affects the accuracy of background correction"
   ]
  },
  {
   "cell_type": "markdown",
   "metadata": {},
   "source": [
    "#### Full equations can be solved without assuming small retardance and depolarization"
   ]
  }
 ],
 "metadata": {
  "kernelspec": {
   "display_name": "Python 3",
   "language": "python",
   "name": "python3"
  },
  "language_info": {
   "codemirror_mode": {
    "name": "ipython",
    "version": 3
   },
   "file_extension": ".py",
   "mimetype": "text/x-python",
   "name": "python",
   "nbconvert_exporter": "python",
   "pygments_lexer": "ipython3",
   "version": "3.6.7"
  }
 },
 "nbformat": 4,
 "nbformat_minor": 2
}
